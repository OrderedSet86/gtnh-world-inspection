{
 "cells": [
  {
   "cell_type": "code",
   "execution_count": 1,
   "metadata": {},
   "outputs": [],
   "source": [
    "import traceback\n",
    "from collections import Counter\n",
    "from pathlib import Path\n",
    "from typing import Union\n",
    "\n",
    "import anvil\n",
    "from nbt.nbt import TAG"
   ]
  },
  {
   "cell_type": "code",
   "execution_count": 2,
   "metadata": {},
   "outputs": [
    {
     "name": "stdout",
     "output_type": "stream",
     "text": [
      "<anvil.region.Region object at 0x76109431d480>\n",
      "['__class__', '__delattr__', '__dir__', '__doc__', '__eq__', '__format__', '__ge__', '__getattribute__', '__getstate__', '__gt__', '__hash__', '__init__', '__init_subclass__', '__le__', '__lt__', '__module__', '__ne__', '__new__', '__reduce__', '__reduce_ex__', '__repr__', '__setattr__', '__sizeof__', '__slots__', '__str__', '__subclasshook__', 'chunk_data', 'chunk_location', 'data', 'from_file', 'get_chunk', 'header_offset']\n"
     ]
    }
   ],
   "source": [
    "gtnh_instance_path = Path('~/.local/share/multimc/instances/GT_New_Horizons_2.6.1_Java_8/').expanduser()\n",
    "mc_world_path = Path('.minecraft/saves/GotG seed')\n",
    "region_file_path = Path('DIM1/region/r.0.0.mca')\n",
    "full_path = gtnh_instance_path / mc_world_path / region_file_path\n",
    "\n",
    "region: anvil.Region = anvil.Region.from_file(str(full_path))\n",
    "\n",
    "print(region)\n",
    "print(dir(region))"
   ]
  },
  {
   "cell_type": "code",
   "execution_count": 3,
   "metadata": {},
   "outputs": [],
   "source": [
    "# Note: 1.7.10 doesn't have a DataVersion,\n",
    "#   but passing 100 fixes it since it only checks for self.version < _VERSION_17w47a:\n",
    "\n",
    "# Overwrite get_chunk classmethod (can't pass in NBT in the original implementation)\n",
    "def from_region_override(cls, region: Union[str, anvil.Region], chunk_x: int, chunk_z: int):\n",
    "    \"\"\"\n",
    "    Creates a new chunk from region and the chunk's X and Z\n",
    "\n",
    "    Parameters\n",
    "    ----------\n",
    "    region\n",
    "        Either a :class:`anvil.Region` or a region file name (like ``r.0.0.mca``)\n",
    "\n",
    "    Raises\n",
    "    ----------\n",
    "    anvil.ChunkNotFound\n",
    "        If a chunk is outside this region or hasn't been generated yet\n",
    "    \"\"\"\n",
    "    if isinstance(region, str):\n",
    "        region = anvil.Region.from_file(region)\n",
    "    nbt_data = region.chunk_data(chunk_x, chunk_z)\n",
    "    if nbt_data is None:\n",
    "        raise anvil.errors.ChunkNotFound(f'Could not find chunk ({chunk_x}, {chunk_z})')\n",
    "\n",
    "    print(type(nbt_data))\n",
    "    nbt_data['DataVersion'] = TAG(name='DataVersion', value=100)\n",
    "\n",
    "    return cls(nbt_data)\n",
    "anvil.Chunk.from_region = from_region_override"
   ]
  },
  {
   "cell_type": "code",
   "execution_count": 4,
   "metadata": {},
   "outputs": [
    {
     "name": "stdout",
     "output_type": "stream",
     "text": [
      "<class 'nbt.nbt.NBTFile'>\n",
      "<anvil.region.Region object at 0x76109431d480>\n",
      "OldBlock(id=0, data=0)\n",
      "0\n",
      "None\n",
      "{TAG_Byte('Natura.Retrogen'): 1, TAG_Compound('Thaumcraft'): {1 Entries}, TAG_Compound('NaturaWorld'): {0 Entries}, TAG_Compound('Forestry'): {0 Entries}, TAG_Compound('Level'): {12 Entries}, TAG_Byte('gcewing.sg.oresGenerated'): 0, TAG_Compound('CoFHWorld'): {3 Entries}, TAG_Compound('RetrogenData_mrtjp_gen'): {2 Entries}}\n",
      "12288\n"
     ]
    }
   ],
   "source": [
    "try:\n",
    "    chunk = anvil.Chunk.from_region(anvil.Chunk, region, 0, 0)\n",
    "    block = chunk.get_block(2, 66, 5)\n",
    "\n",
    "    print(region)\n",
    "    print(block)\n",
    "    print(block.id)\n",
    "    # print(block.properties) # 'OldBlock' object has no attribute 'properties'\n",
    "    print(chunk.get_palette(15))\n",
    "    nbt_for_chunk = region.chunk_data(0, 0)\n",
    "    print(nbt_for_chunk)\n",
    "except Exception as e:\n",
    "    traceback.print_exc()\n",
    "\n",
    "print(len(region.data))"
   ]
  },
  {
   "cell_type": "code",
   "execution_count": 15,
   "metadata": {},
   "outputs": [
    {
     "data": {
      "text/plain": [
       "['_MutableMapping__marker',\n",
       " '_abc_impl',\n",
       " '_parse_buffer',\n",
       " '_render_buffer',\n",
       " 'clear',\n",
       " 'get',\n",
       " 'id',\n",
       " 'items',\n",
       " 'iteritems',\n",
       " 'keys',\n",
       " 'name',\n",
       " 'namestr',\n",
       " 'pop',\n",
       " 'popitem',\n",
       " 'pretty_tree',\n",
       " 'setdefault',\n",
       " 'tag_info',\n",
       " 'tags',\n",
       " 'update',\n",
       " 'value',\n",
       " 'values',\n",
       " 'valuestr']"
      ]
     },
     "execution_count": 15,
     "metadata": {},
     "output_type": "execute_result"
    }
   ],
   "source": [
    "def getNonDunder(obj):\n",
    "    return [f for f in dir(obj) if not f[:2] + f[-2:] == '____']\n",
    "\n",
    "getNonDunder(nbt_for_chunk['Level'])"
   ]
  },
  {
   "cell_type": "code",
   "execution_count": 6,
   "metadata": {},
   "outputs": [
    {
     "data": {
      "text/plain": [
       "['LightPopulated',\n",
       " 'zPos',\n",
       " 'HeightMap',\n",
       " 'Sections',\n",
       " 'LastUpdate',\n",
       " 'V',\n",
       " 'Biomes',\n",
       " 'InhabitedTime',\n",
       " 'xPos',\n",
       " 'TerrainPopulated',\n",
       " 'TileEntities',\n",
       " 'Entities']"
      ]
     },
     "execution_count": 6,
     "metadata": {},
     "output_type": "execute_result"
    }
   ],
   "source": [
    "nbt_for_chunk['Level'].keys()"
   ]
  },
  {
   "cell_type": "code",
   "execution_count": 20,
   "metadata": {},
   "outputs": [
    {
     "name": "stdout",
     "output_type": "stream",
     "text": [
      "LightPopulated\n",
      "TAG_Byte('LightPopulated'): 0\n",
      "\n",
      "zPos\n",
      "TAG_Int('zPos'): 0\n",
      "\n",
      "HeightMap\n",
      "TAG_Int_Array('HeightMap'): [256 int(s)]\n",
      "\n",
      "Sections\n",
      "TAG_List('Sections'): [4 TAG_Compound(s)]\n",
      "{\n",
      "\tTAG_Compound: {7 Entries}\n",
      "\t{\n",
      "\t\tTAG_Byte_Array('Blocks'): [4096 byte(s)]\n",
      "\t\tTAG_Byte_Array('SkyLight'): [2048 byte(s)]\n",
      "\t\tTAG_Byte_Array('Blocks16'): [8192 byte(s)]\n",
      "\t\tTAG_Byte('Y'): 0\n",
      "\t\tTAG_Byte_Array('Data16'): [8192 byte(s)]\n",
      "\t\tTAG_Byte_Array('BlockLight'): [2048 byte(s)]\n",
      "\t\tTAG_Byte_Array('Data'): [2048 byte(s)]\n",
      "\t}\n",
      "\tTAG_Compound: {7 Entries}\n",
      "\t{\n",
      "\t\tTAG_Byte_Array('Blocks'): [4096 byte(s)]\n",
      "\t\tTAG_Byte_Array('SkyLight'): [2048 byte(s)]\n",
      "\t\tTAG_Byte_Array('Blocks16'): [8192 byte(s)]\n",
      "\t\tTAG_Byte('Y'): 1\n",
      "\t\tTAG_Byte_Array('Data16'): [8192 byte(s)]\n",
      "\t\tTAG_Byte_Array('BlockLight'): [2048 byte(s)]\n",
      "\t\tTAG_Byte_Array('Data'): [2048 byte(s)]\n",
      "\t}\n",
      "\tTAG_Compound: {7 Entries}\n",
      "\t{\n",
      "\t\tTAG_Byte_Array('Blocks'): [4096 byte(s)]\n",
      "\t\tTAG_Byte_Array('SkyLight'): [2048 byte(s)]\n",
      "\t\tTAG_Byte_Array('Blocks16'): [8192 byte(s)]\n",
      "\t\tTAG_Byte('Y'): 2\n",
      "\t\tTAG_Byte_Array('Data16'): [8192 byte(s)]\n",
      "\t\tTAG_Byte_Array('BlockLight'): [2048 byte(s)]\n",
      "\t\tTAG_Byte_Array('Data'): [2048 byte(s)]\n",
      "\t}\n",
      "\tTAG_Compound: {7 Entries}\n",
      "\t{\n",
      "\t\tTAG_Byte_Array('Blocks'): [4096 byte(s)]\n",
      "\t\tTAG_Byte_Array('SkyLight'): [2048 byte(s)]\n",
      "\t\tTAG_Byte_Array('Blocks16'): [8192 byte(s)]\n",
      "\t\tTAG_Byte('Y'): 3\n",
      "\t\tTAG_Byte_Array('Data16'): [8192 byte(s)]\n",
      "\t\tTAG_Byte_Array('BlockLight'): [2048 byte(s)]\n",
      "\t\tTAG_Byte_Array('Data'): [2048 byte(s)]\n",
      "\t}\n",
      "}\n",
      "\n",
      "LastUpdate\n",
      "TAG_Long('LastUpdate'): 84293\n",
      "\n",
      "V\n",
      "TAG_Byte('V'): 1\n",
      "\n",
      "Biomes\n",
      "TAG_Byte_Array('Biomes'): [256 byte(s)]\n",
      "\n",
      "InhabitedTime\n",
      "TAG_Long('InhabitedTime'): 0\n",
      "\n",
      "xPos\n",
      "TAG_Int('xPos'): 0\n",
      "\n",
      "TerrainPopulated\n",
      "TAG_Byte('TerrainPopulated'): 0\n",
      "\n",
      "TileEntities\n",
      "TAG_List('TileEntities'): [0 _TAG_End(s)]\n",
      "\n",
      "Entities\n",
      "TAG_List('Entities'): [0 _TAG_End(s)]\n",
      "\n"
     ]
    }
   ],
   "source": [
    "for k in nbt_for_chunk['Level'].keys():\n",
    "    curr_nbt = nbt_for_chunk['Level'][k]\n",
    "    print(k)\n",
    "    print(curr_nbt.pretty_tree())\n",
    "    print()"
   ]
  },
  {
   "cell_type": "code",
   "execution_count": 38,
   "metadata": {},
   "outputs": [
    {
     "name": "stdout",
     "output_type": "stream",
     "text": [
      "y=0 Counter({0: 3035, 121: 1061})\n",
      "y=1 Counter({121: 4096})\n",
      "y=2 Counter({121: 4096})\n",
      "y=3 Counter({121: 3328, 0: 768})\n"
     ]
    }
   ],
   "source": [
    "for i in range(4):\n",
    "    print(f'y={i}', Counter(nbt_for_chunk['Level']['Sections'][i]['Blocks']))"
   ]
  },
  {
   "cell_type": "code",
   "execution_count": 48,
   "metadata": {},
   "outputs": [
    {
     "name": "stdout",
     "output_type": "stream",
     "text": [
      "None\n"
     ]
    }
   ],
   "source": [
    "ore_chunk_nbt = region.chunk_data(1, 1)\n",
    "print(ore_chunk_nbt)\n",
    "# ore_chunk_nbt['gcewing.sg.oresGenerated'].pretty_tree()"
   ]
  },
  {
   "cell_type": "code",
   "execution_count": null,
   "metadata": {},
   "outputs": [],
   "source": []
  }
 ],
 "metadata": {
  "kernelspec": {
   "display_name": "venv",
   "language": "python",
   "name": "python3"
  },
  "language_info": {
   "codemirror_mode": {
    "name": "ipython",
    "version": 3
   },
   "file_extension": ".py",
   "mimetype": "text/x-python",
   "name": "python",
   "nbconvert_exporter": "python",
   "pygments_lexer": "ipython3",
   "version": "3.11.3"
  }
 },
 "nbformat": 4,
 "nbformat_minor": 2
}
